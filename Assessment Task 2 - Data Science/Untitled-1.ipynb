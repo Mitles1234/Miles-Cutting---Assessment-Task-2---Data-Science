{
 "cells": [
  {
   "cell_type": "markdown",
   "metadata": {},
   "source": [
    "Assessment Task 2"
   ]
  },
  {
   "cell_type": "markdown",
   "metadata": {},
   "source": [
    "Chosing a Data Set:\n",
    "Has wind around australia shifted from consistant wind, to gusty wind? - Buildings stoping wind\n",
    "\n",
    "Data: The average speed of wind, the peak/gust wind speed, dates of data, location of data\n",
    "Goal: To see if the average speed of wind has decreased because of the rise of buildings\n",
    "Source: Kaggle - Weather.csv / ProfileID - Albury + Coffs Harbour\n",
    "Access: Freely Avalible for Download\n",
    "Access Method: .csv\n",
    "\n",
    "Functional Requirements:\n",
    " - Show the average wind speed and the average gust speed in areas around Australia\n",
    " - Show the amount of new buildings in those locations\n",
    " - Show a correlation between the two\n",
    " - Have a simple user interface / gui\n",
    "\n",
    "Data Loading:\n",
    " - Weather Data - CSV\n",
    " - Building Data - XLS (Can Convert to CVS)\n",
    "\n",
    "Data Cleaning:\n",
    " - Sort data into the overlaping years (2008 - 2017)\n",
    " - Remove excess weather data i.e temperature\n",
    "\n",
    "Data Analysis:\n",
    " - Mean\n",
    "\n",
    "Data Visualisation:\n",
    " - Matplotlib Chart - Line Graph\n",
    "\n",
    "Data Reporting:\n",
    " - CSV File\n",
    "\n",
    "Use Case:\n",
    "Actor: User\n",
    "Goal: To inform the user of how buildings are affecting the wind speed in areas\n",
    "Preconditions: Non\n",
    "Main Flow:\n",
    "    "
   ]
  }
 ],
 "metadata": {
  "kernelspec": {
   "display_name": "Python 3",
   "language": "python",
   "name": "python3"
  },
  "language_info": {
   "codemirror_mode": {
    "name": "ipython",
    "version": 3
   },
   "file_extension": ".py",
   "mimetype": "text/x-python",
   "name": "python",
   "nbconvert_exporter": "python",
   "pygments_lexer": "ipython3",
   "version": "3.11.0"
  }
 },
 "nbformat": 4,
 "nbformat_minor": 2
}
