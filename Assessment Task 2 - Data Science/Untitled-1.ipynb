{
 "cells": [
  {
   "cell_type": "markdown",
   "metadata": {},
   "source": [
    "Assessment Task 2"
   ]
  },
  {
   "cell_type": "markdown",
   "metadata": {},
   "source": [
    "Chosing a Data Set:\n",
    "Has wind around australia shifted from consistant wind, to gusty wind? - Buildings stoping wind\n",
    "***\n",
    "# Identifying and Defining #\n",
    "***\n",
    "Data: The average speed of wind, the peak/gust wind speed, dates of data, location of data\n",
    "\n",
    "Goal: To see if the average speed of wind has decreased because of the rise of buildings\n",
    "\n",
    "Source: Kaggle - Weather.csv / ProfileID - Albury + Coffs Harbour\n",
    "\n",
    "Access: Freely Avalible for Download\n",
    "\n",
    "Access Method: .csv\n",
    "***\n",
    "Functional Requirements:\n",
    " - Show the average wind speed and the average gust speed in areas around Australia\n",
    " - Show the amount of new buildings in those locations\n",
    " - Show a correlation between the two\n",
    "\n",
    "Data Loading:\n",
    " - Weather Data - CSV\n",
    " - Building Data - XLS (Can Convert to CVS)\n",
    "\n",
    "Data Cleaning:\n",
    " - Sort data into the overlaping years (2008 - 2017)\n",
    " - Remove excess weather data i.e temperature\n",
    "\n",
    "Data Analysis:\n",
    " - Mean\n",
    "\n",
    "Data Visualisation:\n",
    " - Matplotlib Chart - Line Graph\n",
    "\n",
    "Data Reporting:\n",
    " - CSV File\n",
    "\n",
    "Use Case:\n",
    "\n",
    "Actor: User\n",
    "\n",
    "Goal: To inform the user of how buildings are affecting the wind speed in areas\n",
    "\n",
    "Preconditions: None\n",
    "\n",
    "Main Flow: \n",
    "\n",
    "    1. Pick One of the Four Specified Locations\n",
    "\n",
    "    2. Look at how over time, the amound of houses has risen, the average wind speed has slowed down, and how the average gust speed has increased.\n",
    "\n",
    "Post Conditions: They are more educated in how buildings are affecting wind\n",
    "***\n",
    "Non-Functional Requirements:\n",
    "\n",
    "Usability: The UI has to be simple and easy to follow. The README must clearly explain the purpose for the process and how to use it effectively. Any difficult to use areas in the program must be outlined clearly in the read me.\n",
    "\n",
    "Reliability: The system needs to make it clear to the user that an error has happened, and offer solutions on how to rectify the issue. Data integrity can be maintained by informing the user as much as possible about the process the data is going through, and where the data is coming from.\n",
    "\n",
    "    "
   ]
  },
  {
   "cell_type": "markdown",
   "metadata": {},
   "source": [
    "***\n",
    "# Research and Planning #\n",
    "***\n",
    "Research of Chosen Issue:\n",
    "\n",
    "Purpose: To allow the user to see how buildings are affecting wind speed around Australia\n",
    "\n",
    "Missing Data: This data will give a visualisation of data and give more specific examples of the effect it is having.\n",
    "\n",
    "Stakeholders: This data is designed to help sailors in the conditions to expect around locations in Australia.\n",
    "\n",
    "Use: It can be used by sailors to make more informed desicions about where to sail, the likely conditions in that area, and what conditions events planned in the future might be like.\n",
    "\n",
    "Privact and Security:"
   ]
  },
  {
   "cell_type": "markdown",
   "metadata": {},
   "source": [
    "Notes for Me:\n",
    " - Let the User Choose between place,\n",
    " - Let the User Toggle between what is being shown in the graph i.e. Show Gust Speed, Show wind Speed, Show building production"
   ]
  }
 ],
 "metadata": {
  "kernelspec": {
   "display_name": "Python 3",
   "language": "python",
   "name": "python3"
  },
  "language_info": {
   "codemirror_mode": {
    "name": "ipython",
    "version": 3
   },
   "file_extension": ".py",
   "mimetype": "text/x-python",
   "name": "python",
   "nbconvert_exporter": "python",
   "pygments_lexer": "ipython3",
   "version": "3.11.0"
  }
 },
 "nbformat": 4,
 "nbformat_minor": 2
}
