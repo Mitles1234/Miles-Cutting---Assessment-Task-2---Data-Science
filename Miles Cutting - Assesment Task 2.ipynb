{
 "cells": [
  {
   "cell_type": "markdown",
   "metadata": {},
   "source": [
    "# **Computing Technology - Assessment Task 2** #\n",
    "### **Data Science** ###\n",
    "#### ***By Miles Cutting*** ####\n",
    "***"
   ]
  },
  {
   "cell_type": "markdown",
   "metadata": {},
   "source": [
    "Chosing a Data Set:\n",
    "My goal for this project is to understand what affect the amount of buildings in a given location has on the average wind speed and the peak wind speed. I also want to find the relationship between the average and peak wind speed such as how far apart they are.\n",
    "\n",
    "\n",
    "\n",
    "***\n",
    "# Identifying and Defining #\n",
    "***\n",
    "Data: The average speed of wind, the peak/gust wind speed, dates of data, location of data\n",
    "\n",
    "Goal: To see if the average speed of wind has decreased because of the rise of buildings\n",
    "\n",
    "Source: Kaggle - Weather.csv / ProfileID - Albury + Coffs Harbour + Newcastle + Penrith\n",
    "\n",
    "Access: Freely Avalible for Download\n",
    "\n",
    "Access Method: To access the data, I will use csv files.\n",
    "***\n",
    "### Functional Requirements: ###\n",
    " - Show the average wind speed and the average gust speed in areas around Australia\n",
    " - Show the amount of new buildings in those locations\n",
    " - Show a correlation between the two\n",
    "\n",
    "Data Loading:\n",
    "   The Weather data that I will be using for the project will come in 2 forms, csv files and xls files. xls files are used for excel documents which means converting them the csv's will be easy, and quick.\n",
    " - Weather Data - CSV\n",
    " - Building Data - XLS\n",
    "\n",
    "Data Cleaning:\n",
    " - Sort data into the overlaping years (2008 - 2017)\n",
    " - Remove excess weather data i.e temperature\n",
    "\n",
    "Data Analysis:\n",
    "  Weather Data - All of my weather data already comes with an average and peak. This means their is not a reason to Analyse this data.\n",
    "  Building Data - I will have to create a rolling total that shows all of increases, by doing this, it will properly show the rate at which new buildings are being created.\n",
    "\n",
    "Data Visualisation:\n",
    "  To visualise the data, I will be using a matplotlib line graph. This allows for the data to be represented \n",
    "\n",
    "Data Reporting:\n",
    " - CSV File\n",
    "\n",
    "### Use Case: ###\n",
    "\n",
    "Actor: User\n",
    "\n",
    "Goal: To inform the user of how buildings are affecting the wind speed in areas\n",
    "\n",
    "Preconditions: None\n",
    "\n",
    "Main Flow: \n",
    "\n",
    "    1. Pick One of the Four Specified Locations\n",
    "\n",
    "    2. Look at how over time, the amound of houses has risen, the average wind speed has slowed down, and how the average gust speed has increased.\n",
    "\n",
    "Post Conditions: They are more educated in how buildings are affecting wind\n",
    "***\n",
    "### Non-Functional Requirements: ###\n",
    "\n",
    "Usability: \n",
    "\n",
    "The UI has to be simple and easy to follow. The README must clearly explain the purpose for the process and how to use it effectively. Any difficult to use areas in the program must be outlined clearly in the read me.\n",
    "\n",
    "Reliability: \n",
    "\n",
    "The system needs to make it clear to the user that an error has happened, and offer solutions on how to rectify the issue. Data integrity can be maintained by informing the user as much as possible about the process the data is going through, and where the data is coming from.\n",
    "\n",
    "    "
   ]
  },
  {
   "cell_type": "markdown",
   "metadata": {},
   "source": [
    "***\n",
    "# Research and Planning #\n",
    "***\n",
    "Research of Chosen Issue:\n",
    "\n",
    "Purpose: To allow the user to see how buildings are affecting wind speed around Australia\n",
    "\n",
    "Missing Data: This data will give a visualisation of data and give more specific examples of the effect it is having.\n",
    "\n",
    "Stakeholders: This data is designed to help sailors in the conditions to expect around locations in Australia.\n",
    "\n",
    "Use: It can be used by sailors to make more informed desicions about where to sail, the likely conditions in that area, and what conditions events planned in the future might be like.\n",
    "\n",
    "Privacy and Security:\n",
    "\n",
    "**Data Privacy of the Source:** For the data to remain a reliable source, their needs to be control over who can access it and change it. The way the data I am using is set up, no one but the original creator of the data can change the original data, only create editable copies. This leaves the responsability of the data to a smaller pool reducing the risk of becoming unreliable. It also makes someone accountable if the data does become unreliable.\n",
    "\n",
    "**Application Data Privacy:** My application doesn't and won't collect user data. This means there is no user data to protect and that their are no responsibilities to maintain the application in the area of user privacy and security.\n",
    "\n",
    "**Cyber Security:**  Once an application is on the web, there are several levels of secuity that then need to have. The level of security will vary between application based on how much data it collects, what kind of data it collects, and the value the data it collects. Three of these levels are user authentication, password hashing, and encryption. User authentication is the process of validating a user is who they say they are. An example of this is a username and password system. Password hashing is having a program change a password into an encrypted state while a program uses it. This process makes it harder for hackers to obtain passwords. The final layer of security is encryption. Encryption converts data into a form that is unusable without a key. This limits who has access to the data to only authorised people who have been given the key. This improves the security of a system."
   ]
  },
  {
   "cell_type": "markdown",
   "metadata": {},
   "source": [
    "Data Dictionaries:\n",
    "\n",
    "<img src = \"Images/Weather Data Dictionary.png\" alt = \"GWeather Data Dictionary\" width = 450 /> \n",
    "<img src = \"Images/Building Data Dictionary.png\" alt = \"Building Data Dictionary\" width = 450 />"
   ]
  },
  {
   "cell_type": "markdown",
   "metadata": {},
   "source": [
    "***\n",
    "# Testing and Evaluating #\n",
    "***\n",
    "Data Visualisation: (There is a large combination of graphs that can be displayed, I have provided a couple, their are many more.)\n"
   ]
  },
  {
   "cell_type": "markdown",
   "metadata": {},
   "source": [
    "<img src = \"Images/Graph Example 1.png\" alt = \"Graph Example 1\" width = 450 /> <img src = \"Images/Graph Example 2.png\" alt = \"Graph Example 2\" width = 459 />"
   ]
  },
  {
   "cell_type": "markdown",
   "metadata": {},
   "source": [
    "Calculations: In my program, their where various calculations. The first calculation in my program is creating the rolling total column in my building csv files. To accomplish this, first many rows where removed until only the neccessary data was there, then the entire table was reverse sorted to make the years count up. Now the calculations where prefored, using the cumulative sum function (.cumsum()), I was able to create a rolling total, first the value from the 'Total' column was collected, and then added to the cumulative sum, this process repeated down the csv file to create a rolling total.\n",
    "\n",
    "The other calulation in my program is with the API. The value for the wind speed is given in m/s, however, Knots is a unit that is more valuable for the target demographic of my software. Because of this, I multiply the wind speed by 1.944.\n",
    "\n",
    "Accuracy: The data displayed in the graphs is accuract, this is evident as any calaculations preformed have been checked manually, and been checked with other sources, i.e checking m/s to knots with multiple sources such as google calculator.\n",
    "\n",
    "Conclusions: Due to the limited access to historical weather data, my original goal for the project of seeing how buildings affect wind speed isn't very clear. I think that if this was to be done again, I would need better locations (Gosford is extremely Good at showing this but I couldnt find any csv files for there), and I would need a larger catalouge of historical data to show. However, this analysis has also shown many unexpected results, such as the average wind speed being only 50% of the peak which is information that interesting and important to learn. It may affect how someone such as a sailor sets up i.e if the wind speed is 20km/h, but it is likely to gust to 40km/h against if it just stays at 20km/h.\n",
    "\n",
    "### Evaluations: ###\n",
    "\n",
    "Peer Evaluations:\n",
    "\n",
    "Rufus:\n",
    "\n",
    "Miles' program is impressive because he made a gui which makes it easier to interact with the program, however it's not that useful as I can't do that much because you can only see the graphs, and their in no options to see the raw data in a table or other format.\n",
    "\n",
    "\n",
    "Yyoung:\n",
    "\n",
    "Miles' program fulfills his functional requirements. It had a clean gui that clearly displayed his analyzed data with a lot of different functions. His program also fulfilled his mentions nonfunctional requirements.\n",
    "\n",
    "Evaluation of Peer Evaluations:\n",
    "\n",
    "Overall I agree with what my peers said about my program. I think my program does meet upto my functional and non function requirements however I agree with Rufus when he says I need more ways to show my data. I think adding a new tab like I have for the settings and for the Weather API could be used to impliment this if I where to in the future. \n",
    "\n",
    "Evaluation:\n",
    "\n",
    "Funcitonal Requirements:\n",
    "\n",
    "My final product was able to meet all of my sucess criteria. I was successfully able to show the average windspeed and gust speed of my chosen location. By using my weather data set csv file, I was able to extract both the wind speed of a location, and the gust speed of the loaction. This means I was successful in my first criteria. My second functional requirement was to show the trend of how many new buildings are being built in a given location. I was also able to complete this functional requirement extemely well. My final functional requirement was to be able to present both pieces of this information together on one graph. I was successful at this by using dual axis's when plotting my graph.\n",
    "\n",
    "Non-Functional Requirements:\n",
    "\n",
    "My non-functional requirements where to create an easy to use and understand UI, and a clear and easy to follow README file. With the use of a GUI, I was able to sucessfully complete my first criteria. It is a simple interface with options to change what appears in the graph. This makes it fit the crirtia well. My README file is also effective at explaining nuances or inconsitances in the GUI. The README is also simple to reed with headings that clearly explain what is being discussed.\n",
    "\n",
    "Evaluation: Project Management\n",
    "Overall, the project tested all areas of my ability to handle a taks ranging from time management to problem solving. One of the largest challenges in the project was my time management. Their are some areas in which I spent to little time on and others where I spent to much. Overall, this left me leaving things until the final moment of the task. The problem solving of my GUI was where I spent most of my time. Lots of my code worked in its own isolated bubble, however, while trying to connect it all, many issues arose. One of these is how tkinter and python handle variables. To make my python based outputs work with my tkinter inputs, I had to convert lots of variables before preforming functions. This is most notable in the Graph() function. Another area which caused issues was implimenting the api. Because of how the API worked, I had to have functions inside of funtions. Although, this taught me that if you define a variable in a function, it is not global to all the other sub-functions. This whas the error that allowed my code to work in its own file but not in my final file and took many hours to fix. I gave this task everything I could to produce a result that I was extremely happy with. I learnt lots about how to make a GUI and how to impliment different pieces of code together to make my own."
   ]
  }
 ],
 "metadata": {
  "kernelspec": {
   "display_name": "Python 3",
   "language": "python",
   "name": "python3"
  },
  "language_info": {
   "codemirror_mode": {
    "name": "ipython",
    "version": 3
   },
   "file_extension": ".py",
   "mimetype": "text/x-python",
   "name": "python",
   "nbconvert_exporter": "python",
   "pygments_lexer": "ipython3",
   "version": "3.11.0"
  }
 },
 "nbformat": 4,
 "nbformat_minor": 2
}
